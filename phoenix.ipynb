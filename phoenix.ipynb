{
 "cells": [
  {
   "cell_type": "code",
   "execution_count": 1,
   "metadata": {},
   "outputs": [
    {
     "data": {
      "text/plain": [
       "15"
      ]
     },
     "execution_count": 1,
     "metadata": {},
     "output_type": "execute_result"
    }
   ],
   "source": [
    "x=5\n",
    "y=3\n",
    "b=x*y\n",
    "b"
   ]
  },
  {
   "cell_type": "code",
   "execution_count": null,
   "metadata": {},
   "outputs": [],
   "source": [
    "a=x+y\n",
    "a\n",
    "\n",
    "c=y*y\n",
    "c"
   ]
  },
  {
   "cell_type": "code",
   "execution_count": null,
   "metadata": {},
   "outputs": [],
   "source": [
    "CH1=\"Go\"\n",
    "CH2=\"My\"\n",
    "CH3=\"Code\"\n",
    "CH=CH1+CH2+CH3\n",
    "CH\n"
   ]
  },
  {
   "cell_type": "code",
   "execution_count": null,
   "metadata": {},
   "outputs": [],
   "source": [
    "my_boolean = True\n",
    "\n",
    "print(5 == 4)\n",
    "print(\"hi\" == \"hi\")\n"
   ]
  },
  {
   "cell_type": "code",
   "execution_count": null,
   "metadata": {},
   "outputs": [],
   "source": [
    "age=11\n",
    "age_min=12\n",
    "if age>age_min:\n",
    "    print(\"true\")\n",
    "\n",
    "if age<age_min:\n",
    "    print(\"false\")\n",
    "    \n",
    "elif age==11:\n",
    "    print(\"one\")\n",
    "    \n",
    "else :\n",
    "    print(\"two\")\n",
    "\n"
   ]
  },
  {
   "cell_type": "code",
   "execution_count": null,
   "metadata": {},
   "outputs": [],
   "source": [
    "MyList= [\"Web\",\"AI\",\"Game\"]\n",
    "print(MyList[0])\n",
    "print(MyList)\n",
    "print(len(MyList))\n",
    "\n",
    "MyList.append(\"html\")\n",
    "print(MyList)\n",
    "\n",
    "MyList.insert(1,\"css\")\n",
    "print(MyList)\n",
    "\n",
    "MyList.remove(\"AI\")\n",
    "print(MyList)\n",
    "\n",
    "del MyList[0]\n",
    "print(MyList)"
   ]
  },
  {
   "cell_type": "code",
   "execution_count": null,
   "metadata": {},
   "outputs": [],
   "source": [
    "MyDict={\"name\":\"jack\",\"last name\":\"mccay\",\"year\":2019}\n",
    "print(MyDict)\n",
    "\n",
    "variable=MyDict[\"name\"]\n",
    "print(variable)\n",
    "\n",
    "MyDict[\"year\"]=2020\n",
    "print(MyDict)\n",
    "\n",
    "MyDict[\"survived\"]=\"yes\"\n",
    "print(MyDict)"
   ]
  },
  {
   "cell_type": "code",
   "execution_count": 59,
   "metadata": {},
   "outputs": [
    {
     "name": "stdout",
     "output_type": "stream",
     "text": [
      "Web\n",
      "AI\n",
      "Game\n"
     ]
    }
   ],
   "source": [
    "MyList= [\"Web\",\"AI\",\"Game\"]\n",
    "for x in MyList:\n",
    "    print(x)\n",
    "\n"
   ]
  },
  {
   "cell_type": "code",
   "execution_count": 2,
   "metadata": {},
   "outputs": [
    {
     "name": "stdout",
     "output_type": "stream",
     "text": [
      "0\n",
      "1\n",
      "3\n",
      "5\n",
      "inside loop\n",
      "inside loop\n",
      "inside loop\n",
      "inside else\n"
     ]
    }
   ],
   "source": [
    "for x in range(0,10,10):\n",
    "    print(x)\n",
    "\n",
    "i=1\n",
    "while i<6:\n",
    "    print(i)\n",
    "    i+=2\n",
    "\n",
    "counter=0\n",
    "while counter<3:\n",
    "    print(\"inside loop\")\n",
    "    counter=counter+1\n",
    "else:\n",
    "    print(\"inside else\")"
   ]
  },
  {
   "cell_type": "code",
   "execution_count": 73,
   "metadata": {},
   "outputs": [
    {
     "name": "stdout",
     "output_type": "stream",
     "text": [
      "[1 2 3 4 5]\n",
      "<class 'numpy.ndarray'>\n",
      "[[0.63617532 0.36221256 0.30465942]\n",
      " [0.28737743 0.7831178  0.53541152]]\n",
      "[[8 8 5 8 9]\n",
      " [3 2 9 9 2]]\n",
      "[3 3 3 3 3]\n",
      "[[1. 0. 0.]\n",
      " [0. 1. 0.]\n",
      " [0. 0. 1.]]\n",
      "[1. 1. 1.]\n"
     ]
    }
   ],
   "source": [
    "import numpy as np\n",
    "\n",
    "a=np.array([1,2,3,4,5])\n",
    "print(a)\n",
    "\n",
    "print(type(a))\n",
    "\n",
    "value=np.random.random((2,3))\n",
    "print(value)\n",
    "\n",
    "value=np.random.randint(2,10, size=(2,5))\n",
    "print(value)\n",
    "\n",
    "value=np.full(5,3)\n",
    "print(value)\n",
    "\n",
    "value=np.eye(3,3)\n",
    "print(value)\n",
    "\n",
    "value=np.ones(3)\n",
    "print(value)"
   ]
  },
  {
   "cell_type": "code",
   "execution_count": 2,
   "metadata": {},
   "outputs": [
    {
     "name": "stdout",
     "output_type": "stream",
     "text": [
      "3\n"
     ]
    }
   ],
   "source": [
    "\n",
    "Z=np.subt(x;y)\n",
    "print(Z)"
   ]
  }
 ],
 "metadata": {
  "kernelspec": {
   "display_name": "Python 3",
   "language": "python",
   "name": "python3"
  },
  "language_info": {
   "codemirror_mode": {
    "name": "ipython",
    "version": 3
   },
   "file_extension": ".py",
   "mimetype": "text/x-python",
   "name": "python",
   "nbconvert_exporter": "python",
   "pygments_lexer": "ipython3",
   "version": "3.7.4"
  }
 },
 "nbformat": 4,
 "nbformat_minor": 2
}
